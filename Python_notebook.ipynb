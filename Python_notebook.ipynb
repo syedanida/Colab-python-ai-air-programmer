{
  "nbformat": 4,
  "nbformat_minor": 0,
  "metadata": {
    "colab": {
      "provenance": [],
      "authorship_tag": "ABX9TyOM6A6/zvn1mNCkVteiF62z",
      "include_colab_link": true
    },
    "kernelspec": {
      "name": "python3",
      "display_name": "Python 3"
    },
    "language_info": {
      "name": "python"
    }
  },
  "cells": [
    {
      "cell_type": "markdown",
      "metadata": {
        "id": "view-in-github",
        "colab_type": "text"
      },
      "source": [
        "<a href=\"https://colab.research.google.com/github/syedanida/Colab-python-ai-air-programmer/blob/main/Python_notebook.ipynb\" target=\"_parent\"><img src=\"https://colab.research.google.com/assets/colab-badge.svg\" alt=\"Open In Colab\"/></a>"
      ]
    },
    {
      "cell_type": "code",
      "source": [
        "import random\n",
        "import sys\n",
        "import os"
      ],
      "metadata": {
        "id": "ODcLS1h4g3Wy"
      },
      "execution_count": null,
      "outputs": []
    },
    {
      "cell_type": "markdown",
      "source": [
        "Printing simple Hello World"
      ],
      "metadata": {
        "id": "0k6JmBrfhBU_"
      }
    },
    {
      "cell_type": "code",
      "source": [
        "print(\"Hello World\")"
      ],
      "metadata": {
        "colab": {
          "base_uri": "https://localhost:8080/"
        },
        "id": "2r_K8M0Jg7YJ",
        "outputId": "1e525220-eb32-401d-aaa5-938143f29eed"
      },
      "execution_count": 1,
      "outputs": [
        {
          "output_type": "stream",
          "name": "stdout",
          "text": [
            "Hello World\n"
          ]
        }
      ]
    },
    {
      "cell_type": "markdown",
      "source": [
        "Printing Name"
      ],
      "metadata": {
        "id": "mbpCIIOOhRZe"
      }
    },
    {
      "cell_type": "code",
      "source": [
        "name = \"Nida\"\n",
        "print(name)"
      ],
      "metadata": {
        "colab": {
          "base_uri": "https://localhost:8080/"
        },
        "id": "amGLRgKKhHH2",
        "outputId": "709235c8-be8f-4605-d5f2-afe57e59b88d"
      },
      "execution_count": 2,
      "outputs": [
        {
          "output_type": "stream",
          "name": "stdout",
          "text": [
            "Nida\n"
          ]
        }
      ]
    },
    {
      "cell_type": "markdown",
      "source": [
        "Working with Arithmetic operators"
      ],
      "metadata": {
        "id": "ikLJAeWzhkUX"
      }
    },
    {
      "cell_type": "code",
      "source": [
        "print(\"5 + 2 = \", 5+2)\n",
        "print(\"5 - 2 = \", 5-2)\n",
        "print(\"5 * 2 = \", 5*2)\n",
        "print(\"5 / 2 = \", 5/2)\n",
        "print(\"5 % 2 = \", 5%2)\n",
        "print(\"5 ** 2 = \", 5**2)\n",
        "print(\"5 // 2 = \", 5//2)"
      ],
      "metadata": {
        "colab": {
          "base_uri": "https://localhost:8080/"
        },
        "id": "KGssyyF5hT79",
        "outputId": "89078e3e-264d-401d-81dd-70c1f3b79aed"
      },
      "execution_count": 3,
      "outputs": [
        {
          "output_type": "stream",
          "name": "stdout",
          "text": [
            "5 + 2 =  7\n",
            "5 - 2 =  3\n",
            "5 * 2 =  10\n",
            "5 / 2 =  2.5\n",
            "5 % 2 =  1\n",
            "5 ** 2 =  25\n",
            "5 // 2 =  2\n"
          ]
        }
      ]
    },
    {
      "cell_type": "markdown",
      "source": [
        "Order of arithmetic operations"
      ],
      "metadata": {
        "id": "RLOQ1lZ6hnzj"
      }
    },
    {
      "cell_type": "code",
      "source": [
        "print(\"1 = 2 -3 * 2 = \", 1 + 2 -3 * 2)\n",
        "print(\"(1 = 2 -3) * 2 = \", (1 + 2 -3) * 2)"
      ],
      "metadata": {
        "colab": {
          "base_uri": "https://localhost:8080/"
        },
        "id": "d8n3LQF_hoyP",
        "outputId": "a819bc8e-8a40-41a9-dcd0-789d830eef75"
      },
      "execution_count": 4,
      "outputs": [
        {
          "output_type": "stream",
          "name": "stdout",
          "text": [
            "1 = 2 -3 * 2 =  -3\n",
            "(1 = 2 -3) * 2 =  0\n"
          ]
        }
      ]
    },
    {
      "cell_type": "markdown",
      "source": [
        "Different ways to join a string"
      ],
      "metadata": {
        "id": "UaOjkF16hpLs"
      }
    },
    {
      "cell_type": "code",
      "source": [
        "quote = \"\\\"Always remember you are unique\"\n",
        "\n",
        "multi_line_quote = ''' just like everyone else\"'''\n",
        "\n",
        "print(\"%s %s %s\" % ('I like the quote', quote, multi_line_quote))"
      ],
      "metadata": {
        "colab": {
          "base_uri": "https://localhost:8080/"
        },
        "id": "FOc-E1v6hpah",
        "outputId": "f652c5c9-fb94-4a9d-fbb3-09e0362a591d"
      },
      "execution_count": 9,
      "outputs": [
        {
          "output_type": "stream",
          "name": "stdout",
          "text": [
            "I like the quote \"Always remember you are unique  just like everyone else\"\n"
          ]
        }
      ]
    },
    {
      "cell_type": "markdown",
      "source": [
        "Add new lines"
      ],
      "metadata": {
        "id": "AXOS4QwRin-6"
      }
    },
    {
      "cell_type": "code",
      "source": [
        "print('\\n' * 5)\n",
        "\n",
        "print(\"I dont like \", end=\"\")\n",
        "print(\"newlines\")"
      ],
      "metadata": {
        "colab": {
          "base_uri": "https://localhost:8080/"
        },
        "id": "o55m3HpWioVB",
        "outputId": "8877a88e-8708-4733-fcbc-4f1b0608ccc7"
      },
      "execution_count": 10,
      "outputs": [
        {
          "output_type": "stream",
          "name": "stdout",
          "text": [
            "\n",
            "\n",
            "\n",
            "\n",
            "\n",
            "\n",
            "I dont like newlines\n"
          ]
        }
      ]
    },
    {
      "cell_type": "markdown",
      "source": [
        "Lists"
      ],
      "metadata": {
        "id": "nsFIstafiolb"
      }
    },
    {
      "cell_type": "code",
      "source": [
        "grocery_list = ['Juice', 'Tomato', 'Potato', 'Strawberry']\n",
        "\n",
        "print('First Item is', grocery_list[0])\n",
        "\n",
        "grocery_list[0] = \"Grape Juice\"\n",
        "print('First Item is', grocery_list[0])\n",
        "\n",
        "#Subset of a list\n",
        "print(grocery_list[1:3])\n",
        "\n",
        "other_events = ['Wash car', 'Make Lunch', 'Cash check']\n",
        "to_do_list = [other_events, grocery_list]\n",
        "print(to_do_list)\n",
        "\n",
        "print(to_do_list[1][1])\n",
        "\n",
        "grocery_list.append('Onions')\n",
        "print(to_do_list)\n",
        "\n",
        "grocery_list.insert(1, \"Pickle\")\n",
        "print(to_do_list)\n",
        "\n",
        "grocery_list.remove(\"Pickle\")\n",
        "print(to_do_list)\n",
        "\n",
        "grocery_list.sort()\n",
        "print(to_do_list)\n",
        "\n",
        "grocery_list.reverse()\n",
        "print(to_do_list)\n",
        "\n",
        "del grocery_list[4]\n",
        "print(to_do_list)\n",
        "\n",
        "to_do_list2 = other_events + grocery_list\n",
        "\n",
        "print(len(to_do_list2))\n",
        "\n",
        "print(max(to_do_list2))\n",
        "\n",
        "print(min(to_do_list2))"
      ],
      "metadata": {
        "colab": {
          "base_uri": "https://localhost:8080/"
        },
        "id": "h7Ife7ySio0s",
        "outputId": "c2a295e4-75a6-4db6-b255-79f8ab3dd3be"
      },
      "execution_count": 21,
      "outputs": [
        {
          "output_type": "stream",
          "name": "stdout",
          "text": [
            "First Item is Juice\n",
            "First Item is Grape Juice\n",
            "['Tomato', 'Potato']\n",
            "[['Wash car', 'Make Lunch', 'Cash check'], ['Grape Juice', 'Tomato', 'Potato', 'Strawberry']]\n",
            "Tomato\n",
            "[['Wash car', 'Make Lunch', 'Cash check'], ['Grape Juice', 'Tomato', 'Potato', 'Strawberry', 'Onions']]\n",
            "[['Wash car', 'Make Lunch', 'Cash check'], ['Grape Juice', 'Pickle', 'Tomato', 'Potato', 'Strawberry', 'Onions']]\n",
            "[['Wash car', 'Make Lunch', 'Cash check'], ['Grape Juice', 'Tomato', 'Potato', 'Strawberry', 'Onions']]\n",
            "[['Wash car', 'Make Lunch', 'Cash check'], ['Grape Juice', 'Onions', 'Potato', 'Strawberry', 'Tomato']]\n",
            "[['Wash car', 'Make Lunch', 'Cash check'], ['Tomato', 'Strawberry', 'Potato', 'Onions', 'Grape Juice']]\n",
            "[['Wash car', 'Make Lunch', 'Cash check'], ['Tomato', 'Strawberry', 'Potato', 'Onions']]\n",
            "7\n",
            "Wash car\n",
            "Cash check\n"
          ]
        }
      ]
    },
    {
      "cell_type": "markdown",
      "source": [
        "Tuples"
      ],
      "metadata": {
        "id": "c-29VKa3ipBq"
      }
    },
    {
      "cell_type": "code",
      "source": [
        "pi_tuple = (3, 1, 4, 1, 5, 9)\n",
        "\n",
        "new_tuple = list(pi_tuple)\n",
        "new_list = tuple(new_tuple)\n",
        "\n",
        "# different functions of Tuples\n",
        "# len(tuple)\n",
        "# min(tuple)\n",
        "# max(tuple)"
      ],
      "metadata": {
        "id": "6TXCZRUVipMu"
      },
      "execution_count": 3,
      "outputs": []
    },
    {
      "cell_type": "markdown",
      "source": [
        "Dictionaries or maps"
      ],
      "metadata": {
        "id": "feS475ElipXZ"
      }
    },
    {
      "cell_type": "code",
      "source": [
        "super_villains = {'Fiddler': 'Isaac Bowin',\n",
        "                  'Captain Cold': 'Leonard Snart',\n",
        "                  'Weather Wizard': 'Mark Mardon',\n",
        "                  'Mirror Master': 'Sam Scudder',\n",
        "                  'Pied Piper': 'Thomas Peterson'}\n",
        "\n",
        "print(super_villains['Captain Cold'])\n",
        "\n",
        "del super_villains['Fiddler']\n",
        "\n",
        "super_villains['Pied Piper'] = 'Hartley Rathaway'\n",
        "\n",
        "print(len(super_villains))\n",
        "\n",
        "print(super_villains.get(\"Pied Piper\"))\n",
        "\n",
        "print(super_villains.keys())\n",
        "\n",
        "print(super_villains.values())"
      ],
      "metadata": {
        "colab": {
          "base_uri": "https://localhost:8080/"
        },
        "id": "JQpNPbwNipgf",
        "outputId": "316f46a9-cc78-4baa-92f7-acad3e57ebbc"
      },
      "execution_count": 6,
      "outputs": [
        {
          "output_type": "stream",
          "name": "stdout",
          "text": [
            "Leonard Snart\n",
            "4\n",
            "Hartley Rathaway\n",
            "dict_keys(['Captain Cold', 'Weather Wizard', 'Mirror Master', 'Pied Piper'])\n",
            "dict_values(['Leonard Snart', 'Mark Mardon', 'Sam Scudder', 'Hartley Rathaway'])\n"
          ]
        }
      ]
    },
    {
      "cell_type": "markdown",
      "source": [
        "Conditionals"
      ],
      "metadata": {
        "id": "Ee2IBUN6FJin"
      }
    },
    {
      "cell_type": "code",
      "source": [
        "age = 50\n",
        "\n",
        "if age > 16:\n",
        "  print('You are old enough to drive')\n",
        "else:\n",
        "  print('You are not old enough to drive')\n",
        "\n",
        "\n",
        "if age >= 21:\n",
        "  print('You are old enough to drive a tracter trailer')\n",
        "elif age >= 16:\n",
        "  print('You are old enough to drive a car')\n",
        "else:\n",
        "  print('You are not old enough to drive.')\n",
        "\n",
        "\n",
        "# logical operators\n",
        "if((age >= 1) and (age <= 18)):\n",
        "  print('Ypu get a birthday')\n",
        "elif (age == 21) or (age >= 65):\n",
        "  print('You get a birthday')\n",
        "elif not(age == 30):\n",
        "  print(\"You dont get a birthday\")\n",
        "else:\n",
        "  print('You get a birthday party yeah!')\n"
      ],
      "metadata": {
        "colab": {
          "base_uri": "https://localhost:8080/"
        },
        "id": "HQbaKu1rFLGC",
        "outputId": "44f2e75c-e8a9-4c55-b81a-d8ea34e29f7d"
      },
      "execution_count": 10,
      "outputs": [
        {
          "output_type": "stream",
          "name": "stdout",
          "text": [
            "You are old enough to drive\n",
            "You are old enough to drive a tracter trailer\n",
            "You dont get a birthday\n"
          ]
        }
      ]
    },
    {
      "cell_type": "markdown",
      "source": [
        "Loops"
      ],
      "metadata": {
        "id": "ow9cfpvKGnXi"
      }
    },
    {
      "cell_type": "code",
      "source": [
        "for x in range(0, 10):\n",
        "  print(x, ' ', end=\"\")\n",
        "\n",
        "print('\\n')\n",
        "\n",
        "grocery_list = ['Juice', 'Tomato', 'Potato', 'Lemon']\n",
        "\n",
        "for y in grocery_list:\n",
        "  print(y)\n",
        "\n",
        "for x in [2, 4, 6, 8, 10]:\n",
        "  print(x)\n",
        "\n",
        "num_list = [[1, 2, 3], [10, 20, 30], [100, 200, 300]]\n",
        "\n",
        "for x in range(0, 3):\n",
        "  for y in range(0,3):\n",
        "    print(num_list[x][y])"
      ],
      "metadata": {
        "colab": {
          "base_uri": "https://localhost:8080/"
        },
        "id": "aDSWqEWMGqxb",
        "outputId": "2781a838-8548-4a5c-e159-0591443b67c6"
      },
      "execution_count": 12,
      "outputs": [
        {
          "output_type": "stream",
          "name": "stdout",
          "text": [
            "0  1  2  3  4  5  6  7  8  9  \n",
            "\n",
            "Juice\n",
            "Tomato\n",
            "Potato\n",
            "Lemon\n",
            "2\n",
            "4\n",
            "6\n",
            "8\n",
            "10\n",
            "1\n",
            "2\n",
            "3\n",
            "10\n",
            "20\n",
            "30\n",
            "100\n",
            "200\n",
            "300\n"
          ]
        }
      ]
    },
    {
      "cell_type": "markdown",
      "source": [
        "while loops"
      ],
      "metadata": {
        "id": "n07_h9FBPBUQ"
      }
    },
    {
      "cell_type": "code",
      "source": [
        "import random\n",
        "\n",
        "random_num = random.randrange(0,100)\n",
        "\n",
        "while(random_num != 15):\n",
        "  print(random_num)\n",
        "  random_num = random.randrange(0, 100)\n",
        "\n",
        "\n",
        "i = 0;\n",
        "\n",
        "while (i <= 20):\n",
        "  if(i%2 == 0):\n",
        "    print(i)\n",
        "  elif(i == 9):\n",
        "    break\n",
        "  else:\n",
        "    i += 1 # i = i +1\n",
        "    continue\n",
        "\n",
        "  i += 1"
      ],
      "metadata": {
        "colab": {
          "base_uri": "https://localhost:8080/"
        },
        "id": "fcFrcXakPC6_",
        "outputId": "11361599-d6ee-4059-f344-0d2c757a42f4"
      },
      "execution_count": 15,
      "outputs": [
        {
          "output_type": "stream",
          "name": "stdout",
          "text": [
            "76\n",
            "97\n",
            "71\n",
            "29\n",
            "43\n",
            "87\n",
            "46\n",
            "20\n",
            "47\n",
            "26\n",
            "64\n",
            "54\n",
            "46\n",
            "97\n",
            "61\n",
            "76\n",
            "23\n",
            "59\n",
            "28\n",
            "82\n",
            "26\n",
            "85\n",
            "96\n",
            "90\n",
            "80\n",
            "52\n",
            "52\n",
            "6\n",
            "30\n",
            "16\n",
            "53\n",
            "52\n",
            "21\n",
            "54\n",
            "27\n",
            "73\n",
            "20\n",
            "6\n",
            "67\n",
            "97\n",
            "76\n",
            "92\n",
            "1\n",
            "95\n",
            "97\n",
            "25\n",
            "79\n",
            "86\n",
            "57\n",
            "0\n",
            "2\n",
            "4\n",
            "6\n",
            "8\n"
          ]
        }
      ]
    },
    {
      "cell_type": "markdown",
      "source": [
        "Functions"
      ],
      "metadata": {
        "id": "QINKgT2QQBwr"
      }
    },
    {
      "cell_type": "code",
      "source": [
        "def addNumber(fNum, lNum):\n",
        "  sumNum = fNum +lNum\n",
        "  return sumNum\n",
        "\n",
        "print(addNumber(1,4))"
      ],
      "metadata": {
        "colab": {
          "base_uri": "https://localhost:8080/"
        },
        "id": "woOeL_pMQDQb",
        "outputId": "39a80abd-e5f2-4eaf-b1cc-9f6fbf8bd630"
      },
      "execution_count": 16,
      "outputs": [
        {
          "output_type": "stream",
          "name": "stdout",
          "text": [
            "5\n"
          ]
        }
      ]
    },
    {
      "cell_type": "markdown",
      "source": [
        "Input from User"
      ],
      "metadata": {
        "id": "jhcHvFyXQZgS"
      }
    },
    {
      "cell_type": "code",
      "source": [
        "import sys\n",
        "\n",
        "print('What is your name?')\n",
        "\n",
        "name = sys.stdin.readline()\n",
        "\n",
        "print('Hello', name)"
      ],
      "metadata": {
        "colab": {
          "base_uri": "https://localhost:8080/"
        },
        "id": "0WM8Zk1CQbdF",
        "outputId": "7eb90956-1acf-4ac9-a0cb-dfb2c8729ce0"
      },
      "execution_count": 19,
      "outputs": [
        {
          "output_type": "stream",
          "name": "stdout",
          "text": [
            "What is your name?\n",
            "Hello \n"
          ]
        }
      ]
    },
    {
      "cell_type": "markdown",
      "source": [
        "Strings"
      ],
      "metadata": {
        "id": "umqAthcJQ1oC"
      }
    },
    {
      "cell_type": "code",
      "source": [
        "long_string = \"I'll catch you if you fall - The floor\"\n",
        "\n",
        "print(long_string[0:4])\n",
        "\n",
        "print(long_string[-5:])\n",
        "\n",
        "print(long_string[:-5])\n",
        "\n",
        "print(long_string[0:4])\n",
        "\n",
        "print(long_string[:4] + \" be there\")\n",
        "\n",
        "print(\"%c is my %s letter and my number %d number is %.5f\" %\n",
        "    ('X', 'favorite', 1, .14))\n",
        "\n",
        "print(long_string.capitalize())\n",
        "\n",
        "print(long_string.find(\"Floor\"))\n",
        "\n",
        "print(long_string.isalpha())\n",
        "\n",
        "print(long_string.isalnum())\n",
        "\n",
        "print(len(long_string))\n",
        "\n",
        "print(long_string.replace(\"Floor\", \"Ground\"))\n",
        "\n",
        "print(long_string.strip())\n",
        "\n",
        "quote_list = long_string.split(\" \")\n",
        "print(quote_list)"
      ],
      "metadata": {
        "colab": {
          "base_uri": "https://localhost:8080/"
        },
        "id": "p2oYmPDoQ3D8",
        "outputId": "538fb772-c1b4-4b9a-b687-9461f031334a"
      },
      "execution_count": 22,
      "outputs": [
        {
          "output_type": "stream",
          "name": "stdout",
          "text": [
            "I'll\n",
            "floor\n",
            "I'll catch you if you fall - The \n",
            "I'll\n",
            "I'll be there\n",
            "X is my favorite letter and my number 1 number is 0.14000\n",
            "I'll catch you if you fall - the floor\n",
            "-1\n",
            "False\n",
            "False\n",
            "38\n",
            "I'll catch you if you fall - The floor\n",
            "I'll catch you if you fall - The floor\n",
            "[\"I'll\", 'catch', 'you', 'if', 'you', 'fall', '-', 'The', 'floor']\n"
          ]
        }
      ]
    },
    {
      "cell_type": "markdown",
      "source": [
        "File I/O"
      ],
      "metadata": {
        "id": "ZJJICgAuRr6b"
      }
    },
    {
      "cell_type": "code",
      "source": [
        "test_file = open(\"test.txt\", \"wb\")\n",
        "\n",
        "print(test_file.mode)\n",
        "\n",
        "print(test_file.name)\n",
        "\n",
        "test_file.write(bytes(\"Write me to the file\\n\", 'UTF-8'))\n",
        "\n",
        "test_file.close()\n",
        "\n",
        "test_file = open(\"test.txt\", \"r+\")\n",
        "\n",
        "text_in_file = test_file.read()\n",
        "print(text_in_file)\n",
        "\n",
        "os.remove(\"test.txt\")\n"
      ],
      "metadata": {
        "id": "GJ2ituSiRslY"
      },
      "execution_count": null,
      "outputs": []
    },
    {
      "cell_type": "markdown",
      "source": [
        "Objects"
      ],
      "metadata": {
        "id": "AytqkVFJS_Sh"
      }
    },
    {
      "cell_type": "code",
      "source": [
        "class Animal:\n",
        "  __name = \" \"\n",
        "  __height = 0\n",
        "  __weight = 0\n",
        "  __sound = 0\n",
        "\n",
        "\n",
        "  def __init__(self, name, height, weight, sound):\n",
        "    self.__name = name\n",
        "    self.__height = height\n",
        "    self.__weight = weight\n",
        "    self.__sound = sound\n",
        "\n",
        "  def set_name(self, name):\n",
        "    self.__name = name\n",
        "\n",
        "  def set_height(self, height):\n",
        "    self.__height = height\n",
        "\n",
        "  def set_weight(self, weight):\n",
        "    self.__weight = weight\n",
        "\n",
        "  def set_sound(self, sound):\n",
        "    self.__sound = sound\n",
        "\n",
        "  def get_name(self):\n",
        "    return self.__name\n",
        "\n",
        "  def get_height(self):\n",
        "    return self.__height\n",
        "\n",
        "  def get_weight(self):\n",
        "    return self.__weight\n",
        "\n",
        "  def get_sound(self):\n",
        "    return self.__sound\n",
        "\n",
        "  def get_type(self):\n",
        "    print(\"Animal\")\n",
        "\n",
        "  def toString(self):\n",
        "    return \"{} is {} cm tall and {} kilogram and says {}\". format(self.__name,\n",
        "                                                                 self.__height,\n",
        "                                                                 self.__weight,\n",
        "                                                                 self.__sound)\n",
        "\n",
        "cat = Animal('Whiskers', 33, 10, 'Meow')\n",
        "print(cat.toString())\n",
        "\n",
        "# inheritance\n",
        "\n",
        "class Dog(Animal):\n",
        "    __owner = None\n",
        "\n",
        "    def __init__(self, name, height, weight, sound, owner):\n",
        "        self.__owner = owner\n",
        "        self.__animal_type = None\n",
        "\n",
        "        # How to call the super class constructor\n",
        "        super(Dog, self).__init__(name, height, weight, sound)\n",
        "\n",
        "    def set_owner(self, owner):\n",
        "        self.__owner = owner\n",
        "\n",
        "    def get_owner(self):\n",
        "        return self.__owner\n",
        "\n",
        "    def get_type(self):\n",
        "        print (\"Dog\")\n",
        "\n",
        "    def toString(self):\n",
        "        return \"{} is {} cm tall and {} kilograms and says {}. His owner is {}\".format(self.get_name(),\n",
        "                                                                                       self.get_height(),\n",
        "                                                                                       self.get_weight(),\n",
        "                                                                                       self.get_sound(),\n",
        "                                                                                       self.__owner)\n",
        "\n",
        "    def multiple_sounds(self, how_many=None):\n",
        "        if how_many is None:\n",
        "            print(self.get_sound)\n",
        "        else:\n",
        "            print(self.get_sound() * how_many)\n",
        "\n",
        "spot = Dog(\"Spot\", 53, 27, \"Ruff\", \"Derek\")\n",
        "\n",
        "print(spot.toString())\n",
        ""
      ],
      "metadata": {
        "colab": {
          "base_uri": "https://localhost:8080/"
        },
        "id": "Fv5Mp1tZTAWx",
        "outputId": "869229e8-6897-4c3d-c7bd-629d9d0ce6f2"
      },
      "execution_count": 31,
      "outputs": [
        {
          "output_type": "stream",
          "name": "stdout",
          "text": [
            "Whiskers is 33 cm tall and 10 kilogram and says Meow\n",
            "Spot is 53 cm tall and 27 kilograms and says Ruff. His owner is Derek\n"
          ]
        }
      ]
    },
    {
      "cell_type": "markdown",
      "source": [
        "Polymorphism"
      ],
      "metadata": {
        "id": "m12Rs2LSZNhr"
      }
    },
    {
      "cell_type": "code",
      "source": [
        "class AnimalTesting:\n",
        "    def get_type(self, animal):\n",
        "        animal.get_type()\n",
        "\n",
        "test_animals = AnimalTesting()\n",
        "\n",
        "test_animals.get_type(cat)\n",
        "test_animals.get_type(spot)\n",
        "\n",
        "spot.multiple_sounds(4)"
      ],
      "metadata": {
        "colab": {
          "base_uri": "https://localhost:8080/"
        },
        "id": "oJcrRvIIZQsP",
        "outputId": "b52c60ec-1012-4a66-8490-b62fd14f082f"
      },
      "execution_count": 32,
      "outputs": [
        {
          "output_type": "stream",
          "name": "stdout",
          "text": [
            "Animal\n",
            "Dog\n",
            "RuffRuffRuffRuff\n"
          ]
        }
      ]
    }
  ]
}